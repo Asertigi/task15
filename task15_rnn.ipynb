{
  "cells": [
    {
      "cell_type": "markdown",
      "metadata": {
        "id": "view-in-github",
        "colab_type": "text"
      },
      "source": [
        "<a href=\"https://colab.research.google.com/github/Asertigi/task15/blob/main/task15_rnn.ipynb\" target=\"_parent\"><img src=\"https://colab.research.google.com/assets/colab-badge.svg\" alt=\"Open In Colab\"/></a>"
      ]
    },
    {
      "cell_type": "markdown",
      "metadata": {
        "id": "hP6KOZ729xYP"
      },
      "source": [
        "## Рекуррентные сети\n",
        "\n",
        "Для рекуррентных сетей используем датасет с именами и будем определять из какого языка произошло данное имя. Для этого построим рекуррентную сеть, которая с именами на уровне символов. Для начала скачаем файлы и конвертируем их к удобному формату (можно не особо вникать в этот код)."
      ]
    },
    {
      "cell_type": "code",
      "execution_count": 59,
      "metadata": {
        "id": "n5wPAmAy9xYR"
      },
      "outputs": [],
      "source": [
        "# На Windows придется скачать архив по ссылке (~3Mb) и распаковать самостоятельно\n",
        "#! wget -nc https://download.pytorch.org/tutorial/data.zip\n",
        "#! unzip -n ./data.zip"
      ]
    },
    {
      "cell_type": "code",
      "execution_count": 60,
      "metadata": {
        "colab": {
          "base_uri": "https://localhost:8080/"
        },
        "id": "ZKxrnmgW9xYY",
        "outputId": "d19456be-6a83-43d9-e47d-dff657b40e62"
      },
      "outputs": [
        {
          "output_type": "stream",
          "name": "stdout",
          "text": [
            "['data/names/Spanish.txt', 'data/names/Korean.txt', 'data/names/Dutch.txt', 'data/names/Polish.txt', 'data/names/Portuguese.txt', 'data/names/English.txt', 'data/names/German.txt', 'data/names/Scottish.txt', 'data/names/Russian.txt', 'data/names/Czech.txt', 'data/names/Irish.txt', 'data/names/Chinese.txt', 'data/names/Vietnamese.txt', 'data/names/Arabic.txt', 'data/names/Greek.txt', 'data/names/Italian.txt', 'data/names/French.txt', 'data/names/Japanese.txt']\n",
            "Slusarski\n"
          ]
        }
      ],
      "source": [
        "from io import open\n",
        "import glob\n",
        "\n",
        "def findFiles(path): return glob.glob(path)\n",
        "\n",
        "print(findFiles('data/names/*.txt'))\n",
        "\n",
        "import unicodedata\n",
        "import string\n",
        "\n",
        "all_letters = string.ascii_letters + \" .,;'\"\n",
        "n_letters = len(all_letters)\n",
        "\n",
        "# Turn a Unicode string to plain ASCII, thanks to http://stackoverflow.com/a/518232/2809427\n",
        "def unicodeToAscii(s):\n",
        "    return ''.join(\n",
        "        c for c in unicodedata.normalize('NFD', s)\n",
        "        if unicodedata.category(c) != 'Mn'\n",
        "        and c in all_letters\n",
        "    )\n",
        "\n",
        "print(unicodeToAscii('Ślusàrski'))\n",
        "\n",
        "# Build the category_lines dictionary, a list of names per language\n",
        "category_lines = {}\n",
        "all_categories = []\n",
        "\n",
        "# Read a file and split into lines\n",
        "def readLines(filename):\n",
        "    lines = open(filename, encoding='utf-8').read().strip().split('\\n')\n",
        "    return [unicodeToAscii(line) for line in lines]\n",
        "\n",
        "for filename in findFiles('data/names/*.txt'):\n",
        "    category = filename.split('/')[-1].split('.')[0]\n",
        "    all_categories.append(category)\n",
        "    lines = readLines(filename)\n",
        "    category_lines[category] = lines\n",
        "\n",
        "n_categories = len(all_categories)\n",
        "\n",
        "def categoryFromOutput(output):\n",
        "    top_n, top_i = output.topk(1)\n",
        "    category_i = top_i[0][0]\n",
        "    return all_categories[category_i], category_i"
      ]
    },
    {
      "cell_type": "markdown",
      "metadata": {
        "id": "319MdTEC9xYe"
      },
      "source": [
        "Определим несколько удобных функций для конвертации букв и слов в тензоры.\n",
        "\n",
        "**Задание 1 (1 балл)**: напишите последнюю функцию для конвертации слова в тензор."
      ]
    },
    {
      "cell_type": "code",
      "execution_count": 61,
      "metadata": {
        "colab": {
          "base_uri": "https://localhost:8080/"
        },
        "id": "R3fUjiX_9xYg",
        "outputId": "31fd2169-0004-408e-f274-284e69c53468"
      },
      "outputs": [
        {
          "output_type": "stream",
          "name": "stdout",
          "text": [
            "tensor([[0., 0., 0., 0., 0., 0., 0., 0., 0., 0., 0., 0., 0., 0., 0., 0., 0., 0.,\n",
            "         0., 0., 0., 0., 0., 0., 0., 0., 0., 0., 0., 0., 0., 0., 0., 0., 0., 1.,\n",
            "         0., 0., 0., 0., 0., 0., 0., 0., 0., 0., 0., 0., 0., 0., 0., 0., 0., 0.,\n",
            "         0., 0., 0.]])\n",
            "torch.Size([5, 1, 57])\n"
          ]
        }
      ],
      "source": [
        "import torch\n",
        "import torch.nn as nn\n",
        "# Find letter index from all_letters, e.g. \"a\" = 0\n",
        "def letterToIndex(letter):\n",
        "    return all_letters.find(letter)\n",
        "\n",
        "# Just for demonstration, turn a letter into a <1 x n_letters> Tensor\n",
        "def letterToTensor(letter):\n",
        "    tensor = torch.zeros(1, n_letters)\n",
        "    tensor[0][letterToIndex(letter)] = 1\n",
        "    return tensor\n",
        "\n",
        "# Turn a line into a <line_length x 1 x n_letters>,\n",
        "# or an array of one-hot letter vectors\n",
        "def lineToTensor(line):\n",
        "    tensor = torch.stack([letterToTensor(letter) for letter in line])\n",
        "    return tensor.view(len(line), 1, n_letters)\n",
        "\n",
        "print(letterToTensor('J'))\n",
        "print(lineToTensor('Jones').size())"
      ]
    },
    {
      "cell_type": "markdown",
      "metadata": {
        "id": "4bcXqGXx9xYl"
      },
      "source": [
        "**Задание 2 (3 балла):** Реализуйте однослойную рекуррентную сеть."
      ]
    },
    {
      "cell_type": "code",
      "execution_count": 62,
      "metadata": {
        "id": "whTbgC5R9xYn"
      },
      "outputs": [],
      "source": [
        "class RNNCell(nn.Module):\n",
        "    def __init__(self, input_size, hidden_size):\n",
        "        super(RNNCell, self).__init__()\n",
        "\n",
        "        self.hidden_size = hidden_size\n",
        "        self.features = nn.Sequential(\n",
        "            #линейный слой. подумайте над размерами входного и выходного слоя\n",
        "            nn.Linear(input_size + hidden_size, hidden_size),\n",
        "            #нелинейный слой активации\n",
        "            nn.Tanh()\n",
        "        )\n",
        "\n",
        "    def forward(self, input, hidden):\n",
        "        stacked_input = torch.cat((input, hidden), dim=1)\n",
        "        return self.features(stacked_input)\n",
        "\n",
        "    def initHidden(self):\n",
        "        return torch.zeros(1, self.hidden_size)\n",
        "\n",
        "n_hidden = 128\n",
        "rnncell = RNNCell(n_letters, n_hidden)"
      ]
    },
    {
      "cell_type": "markdown",
      "metadata": {
        "id": "6rnAXB009xYr"
      },
      "source": [
        "Предсказание будем осуществлять при помощи линейного класссификатора поверх скрытых состояний сети."
      ]
    },
    {
      "cell_type": "code",
      "execution_count": 63,
      "metadata": {
        "colab": {
          "base_uri": "https://localhost:8080/"
        },
        "id": "j6rWQ4_a9xYt",
        "outputId": "8c573dba-5ea3-4831-ce72-08a8547a08b7"
      },
      "outputs": [
        {
          "output_type": "stream",
          "name": "stdout",
          "text": [
            "['data/names/Spanish.txt', 'data/names/Korean.txt', 'data/names/Dutch.txt', 'data/names/Polish.txt', 'data/names/Portuguese.txt', 'data/names/English.txt', 'data/names/German.txt', 'data/names/Scottish.txt', 'data/names/Russian.txt', 'data/names/Czech.txt', 'data/names/Irish.txt', 'data/names/Chinese.txt', 'data/names/Vietnamese.txt', 'data/names/Arabic.txt', 'data/names/Greek.txt', 'data/names/Italian.txt', 'data/names/French.txt', 'data/names/Japanese.txt']\n"
          ]
        }
      ],
      "source": [
        "classifier = nn.Sequential(nn.Linear(n_hidden, n_categories), nn.LogSoftmax(dim=1))\n",
        "import glob\n",
        "print(glob.glob('data/names/*.txt'))\n"
      ]
    },
    {
      "cell_type": "markdown",
      "metadata": {
        "id": "B7KVpW449xYz"
      },
      "source": [
        "Проверим, что все корректно работает: выходы классификаторы должны быть лог-вероятностями."
      ]
    },
    {
      "cell_type": "code",
      "execution_count": 64,
      "metadata": {
        "colab": {
          "base_uri": "https://localhost:8080/"
        },
        "id": "r9fgCAXd9xY1",
        "outputId": "673070e5-3e05-4204-e3b6-1729e7b52e8c"
      },
      "outputs": [
        {
          "output_type": "stream",
          "name": "stdout",
          "text": [
            "tensor([[-2.8817, -2.9786, -2.8745, -2.8272, -2.9579, -2.9571, -2.8566, -2.9070,\n",
            "         -2.7360, -2.8662, -2.8494, -2.8112, -2.9301, -2.9026, -2.9524, -2.9628,\n",
            "         -2.9064, -2.9025]], grad_fn=<LogSoftmaxBackward0>)\n",
            "tensor(1., grad_fn=<SumBackward0>)\n"
          ]
        }
      ],
      "source": [
        "input = letterToTensor('A')\n",
        "hidden = torch.zeros(1, n_hidden)\n",
        "\n",
        "output = classifier(rnncell(input, hidden))\n",
        "print(output)\n",
        "print(torch.exp(output).sum())"
      ]
    },
    {
      "cell_type": "code",
      "execution_count": 65,
      "metadata": {
        "colab": {
          "base_uri": "https://localhost:8080/"
        },
        "id": "ATHA1a8J9xY6",
        "outputId": "d409566a-fa9a-4ddd-a717-616a17421e3e"
      },
      "outputs": [
        {
          "output_type": "stream",
          "name": "stdout",
          "text": [
            "tensor([[-2.8817, -2.9786, -2.8745, -2.8272, -2.9579, -2.9571, -2.8566, -2.9070,\n",
            "         -2.7360, -2.8662, -2.8494, -2.8112, -2.9301, -2.9026, -2.9524, -2.9628,\n",
            "         -2.9064, -2.9025]], grad_fn=<LogSoftmaxBackward0>)\n",
            "tensor(1., grad_fn=<SumBackward0>)\n"
          ]
        }
      ],
      "source": [
        "input = lineToTensor('Albert')\n",
        "hidden = torch.zeros(1, n_hidden)\n",
        "\n",
        "output = classifier(rnncell(input[0], hidden))\n",
        "print(output)\n",
        "print(torch.exp(output).sum())"
      ]
    },
    {
      "cell_type": "markdown",
      "metadata": {
        "id": "HV0I9pd99xY-"
      },
      "source": [
        "Для простоты в этот раз будем оптимизировать не по мини-батчам, а по отдельным примерам. Ниже несколько полезных функций для этого."
      ]
    },
    {
      "cell_type": "code",
      "execution_count": 66,
      "metadata": {
        "id": "97WUqv-O9xZB",
        "colab": {
          "base_uri": "https://localhost:8080/"
        },
        "outputId": "864639fc-381d-432e-e5ae-2a8df11f2f22"
      },
      "outputs": [
        {
          "output_type": "stream",
          "name": "stdout",
          "text": [
            "category = Russian / line = Tzegoev\n",
            "category = Greek / line = Hagias\n",
            "category = Polish / line = Zientek\n",
            "category = Russian / line = Maksutov\n",
            "category = Portuguese / line = Crespo\n",
            "category = Polish / line = Kaczka\n",
            "category = Scottish / line = Lindsay\n",
            "category = Irish / line = Brannon\n",
            "category = Irish / line = O'Connell\n",
            "category = Vietnamese / line = Tong\n"
          ]
        }
      ],
      "source": [
        "import random\n",
        "\n",
        "def randomChoice(l):\n",
        "    return l[random.randint(0, len(l) - 1)]\n",
        "\n",
        "def randomTrainingExample():\n",
        "    category = randomChoice(all_categories)\n",
        "    line = randomChoice(category_lines[category])\n",
        "    category_tensor = torch.tensor([all_categories.index(category)], dtype=torch.long)\n",
        "    line_tensor = lineToTensor(line)\n",
        "    return category, line, category_tensor, line_tensor\n",
        "\n",
        "for i in range(10):\n",
        "    category, line, category_tensor, line_tensor = randomTrainingExample()\n",
        "    print('category =', category, '/ line =', line)"
      ]
    },
    {
      "cell_type": "markdown",
      "metadata": {
        "id": "o8KAO_JP9xZG"
      },
      "source": [
        "**Задание 3 (1 балл):** Реализуйте вычисление ответа в функции train. Если все сделано правильно, то точность на обучающей выборке должна быть не менее 70%."
      ]
    },
    {
      "cell_type": "code",
      "execution_count": 81,
      "metadata": {
        "id": "BzuMsHyD9xZG",
        "colab": {
          "base_uri": "https://localhost:8080/",
          "height": 904
        },
        "outputId": "053d3ae2-f328-47ae-d2b5-3278581f4971"
      },
      "outputs": [
        {
          "output_type": "stream",
          "name": "stderr",
          "text": [
            "100%|██████████| 50000/50000 [01:31<00:00, 547.08it/s]\n"
          ]
        },
        {
          "output_type": "display_data",
          "data": {
            "text/plain": [
              "<Figure size 640x480 with 1 Axes>"
            ],
            "image/png": "[encoded data removed]"
          },
          "metadata": {}
        },
        {
          "output_type": "display_data",
          "data": {
            "text/plain": [
              "<Figure size 640x480 with 1 Axes>"
            ],
            "image/png": "[encoded data removed]"
          },
          "metadata": {}
        }
      ],
      "source": [
        "from tqdm import trange\n",
        "import torch.nn.functional as F\n",
        "import matplotlib.pyplot as plt\n",
        "\n",
        "def train(category, category_tensor, line_tensor, optimizer):\n",
        "    hidden = rnncell.initHidden()\n",
        "\n",
        "    rnncell.zero_grad()\n",
        "    classifier.zero_grad()\n",
        "\n",
        "    for letter_tensor in line_tensor:\n",
        "        hidden = rnncell(letter_tensor, hidden)#code here, прокручиваем через рекурентную сеть новую букву и старой скрытое состояние\n",
        "\n",
        "    output = classifier(hidden)#применяем классификатор как будто бы это последний слой в сети\n",
        "\n",
        "    loss = F.nll_loss(output, category_tensor)\n",
        "    loss.backward()\n",
        "    optimizer.step()\n",
        "\n",
        "    acc = (categoryFromOutput(output)[0] == category)\n",
        "\n",
        "    return loss.item(), acc\n",
        "\n",
        "n_iters = 50000\n",
        "plot_every = 1000\n",
        "\n",
        "current_loss = 0\n",
        "all_losses = []\n",
        "current_acc = 0\n",
        "all_accs = []\n",
        "\n",
        "n_hidden = 115\n",
        "\n",
        "rnncell = RNNCell(n_letters, n_hidden)\n",
        "classifier = nn.Sequential(nn.Linear(n_hidden, n_categories), nn.LogSoftmax(dim=1))\n",
        "params = list(rnncell.parameters()) + list(classifier.parameters())\n",
        "opt = torch.optim.RMSprop(params, lr=0.001)\n",
        "for iter in trange(1, n_iters + 1):\n",
        "    category, line, category_tensor, line_tensor = randomTrainingExample()\n",
        "    loss, acc = train(category, category_tensor, line_tensor, opt)\n",
        "    current_loss += loss\n",
        "    current_acc += acc\n",
        "\n",
        "    # Add current loss avg to list of losses\n",
        "    if iter % plot_every == 0:\n",
        "        all_losses.append(current_loss / plot_every)\n",
        "        current_loss = 0\n",
        "        all_accs.append(current_acc / plot_every)\n",
        "        current_acc = 0\n",
        "\n",
        "plt.figure()\n",
        "plt.title(\"Loss\")\n",
        "plt.plot(all_losses)\n",
        "plt.grid()\n",
        "plt.show()\n",
        "\n",
        "plt.figure()\n",
        "plt.title(\"Accuracy\")\n",
        "plt.plot(all_accs)\n",
        "plt.grid()\n",
        "plt.show()"
      ]
    },
    {
      "cell_type": "markdown",
      "metadata": {
        "id": "81DCBYA69xZL"
      },
      "source": [
        "## Затухающие и взрывающиеся градиенты\n",
        "\n",
        "Эксперименты будем проводить опять на датасете MNIST, но будем работать с полносвязными сетями. В этом разделе мы не будем пытаться подобрать более удачную архитектуру, нам интересно только посмотреть на особенности обучения глубоких сетей."
      ]
    },
    {
      "cell_type": "code",
      "execution_count": 79,
      "metadata": {
        "id": "lj2o7YMV9xZL",
        "colab": {
          "base_uri": "https://localhost:8080/",
          "height": 349
        },
        "outputId": "d676ee03-ce24-422c-ceb2-04412d072096"
      },
      "outputs": [
        {
          "output_type": "error",
          "ename": "ImportError",
          "evalue": "cannot import name 'load_mnist' from 'mnist' (/usr/local/lib/python3.10/dist-packages/mnist/__init__.py)",
          "traceback": [
            "\u001b[0;31m---------------------------------------------------------------------------\u001b[0m",
            "\u001b[0;31mImportError\u001b[0m                               Traceback (most recent call last)",
            "\u001b[0;32m<ipython-input-79-281988b1054c>\u001b[0m in \u001b[0;36m<cell line: 1>\u001b[0;34m()\u001b[0m\n\u001b[0;32m----> 1\u001b[0;31m \u001b[0;32mfrom\u001b[0m \u001b[0mmnist\u001b[0m \u001b[0;32mimport\u001b[0m \u001b[0mload_mnist\u001b[0m\u001b[0;34m\u001b[0m\u001b[0;34m\u001b[0m\u001b[0m\n\u001b[0m\u001b[1;32m      2\u001b[0m \u001b[0;34m\u001b[0m\u001b[0m\n\u001b[1;32m      3\u001b[0m \u001b[0;34m(\u001b[0m\u001b[0mX_train\u001b[0m\u001b[0;34m,\u001b[0m \u001b[0my_train\u001b[0m\u001b[0;34m)\u001b[0m\u001b[0;34m,\u001b[0m \u001b[0;34m(\u001b[0m\u001b[0mX_val\u001b[0m\u001b[0;34m,\u001b[0m \u001b[0my_val\u001b[0m\u001b[0;34m)\u001b[0m \u001b[0;34m=\u001b[0m \u001b[0mload_mnist\u001b[0m\u001b[0;34m(\u001b[0m\u001b[0mflatten\u001b[0m\u001b[0;34m=\u001b[0m\u001b[0;32mTrue\u001b[0m\u001b[0;34m)\u001b[0m\u001b[0;34m\u001b[0m\u001b[0;34m\u001b[0m\u001b[0m\n",
            "\u001b[0;31mImportError\u001b[0m: cannot import name 'load_mnist' from 'mnist' (/usr/local/lib/python3.10/dist-packages/mnist/__init__.py)",
            "",
            "\u001b[0;31m---------------------------------------------------------------------------\u001b[0;32m\nNOTE: If your import is failing due to a missing package, you can\nmanually install dependencies using either !pip or !apt.\n\nTo view examples of installing some common dependencies, click the\n\"Open Examples\" button below.\n\u001b[0;31m---------------------------------------------------------------------------\u001b[0m\n"
          ],
          "errorDetails": {
            "actions": [
              {
                "action": "open_url",
                "actionText": "Open Examples",
                "url": "/notebooks/snippets/importing_libraries.ipynb"
              }
            ]
          }
        }
      ],
      "source": [
        "from mnist import load_mnist\n",
        "\n",
        "(X_train, y_train), (X_val, y_val) = load_mnist(flatten=True)"
      ]
    },
    {
      "cell_type": "code",
      "execution_count": 69,
      "metadata": {
        "id": "OvWRQdqDLjyL"
      },
      "outputs": [],
      "source": [
        "def test(model):\n",
        "    loss_log, acc_log = [], []\n",
        "    model.eval()\n",
        "    for x_batch, y_batch in iterate_minibatches(X_val, y_val, batchsize=32, shuffle=True):\n",
        "        data = torch.from_numpy(x_batch.astype(np.float32))\n",
        "        target = torch.from_numpy(y_batch.astype(np.int64))\n",
        "\n",
        "        output = model(data)\n",
        "        loss = F.nll_loss(output, target)\n",
        "\n",
        "        pred = torch.max(output, 1)[1].numpy()\n",
        "        acc = np.mean(pred == y_batch)\n",
        "        acc_log.append(acc)\n",
        "\n",
        "        loss = loss.item()\n",
        "        loss_log.append(loss)\n",
        "    return loss_log, acc_log\n",
        "\n",
        "def plot_history(train_history, val_history, title='loss'):\n",
        "    plt.figure()\n",
        "    plt.title('{}'.format(title))\n",
        "    plt.plot(train_history, label='train', zorder=1)\n",
        "\n",
        "    points = np.array(val_history)\n",
        "\n",
        "    plt.scatter(points[:, 0], points[:, 1], marker='+', s=180, c='orange', label='val', zorder=2)\n",
        "    plt.xlabel('train steps')\n",
        "\n",
        "    plt.legend(loc='best')\n",
        "    plt.grid()\n",
        "\n",
        "    plt.show()"
      ]
    },
    {
      "cell_type": "markdown",
      "metadata": {
        "id": "gj-hnp_B9xZP"
      },
      "source": [
        "Для экспериментов нам понадобится сеть, в которой можно легко менять количество слоев. Также эта сеть должна сохранять градиенты на всех слоях, чтобы потом мы могли посмотреть на их величины."
      ]
    },
    {
      "cell_type": "code",
      "execution_count": 70,
      "metadata": {
        "id": "D_zBqPek9xZQ"
      },
      "outputs": [],
      "source": [
        "class DeepDenseNet(nn.Module):\n",
        "    def __init__(self, n_layers, hidden_size, activation):\n",
        "        super().__init__()\n",
        "        self.activation = activation\n",
        "\n",
        "        l0 = nn.Linear(X_train.shape[1], hidden_size)\n",
        "        self.weights = [l0.weight]\n",
        "        self.layers = [l0]\n",
        "\n",
        "        for i in range(n_layers):\n",
        "            self.layers.append(self.activation)\n",
        "            linear = nn.Linear(hidden_size, hidden_size)\n",
        "            self.layers.append(linear)\n",
        "            self.weights.append(linear.weight)\n",
        "\n",
        "        self.seq = nn.Sequential(*self.layers)\n",
        "\n",
        "        for l in self.weights:\n",
        "            l.retain_grad()\n",
        "\n",
        "    def forward(self, x):\n",
        "        out = self.seq(x)\n",
        "        return F.log_softmax(out, dim=-1)"
      ]
    },
    {
      "cell_type": "markdown",
      "metadata": {
        "id": "3vd1b00P9xZV"
      },
      "source": [
        "Модифицируем наши функции обучения, чтобы они также рисовали графики изменения градиентов."
      ]
    },
    {
      "cell_type": "code",
      "execution_count": 71,
      "metadata": {
        "id": "k-4-vgt29xZY"
      },
      "outputs": [],
      "source": [
        "import scipy.sparse.linalg\n",
        "import numpy as np\n",
        "\n",
        "def iterate_minibatches(inputs, targets, batchsize, shuffle=False):\n",
        "    assert len(inputs) == len(targets)\n",
        "    if shuffle:\n",
        "        indices = np.random.permutation(len(inputs))\n",
        "    for start_idx in trange(0, len(inputs) - batchsize + 1, batchsize):\n",
        "        if shuffle:\n",
        "            excerpt = indices[start_idx:start_idx + batchsize]\n",
        "        else:\n",
        "            excerpt = slice(start_idx, start_idx + batchsize)\n",
        "        yield inputs[excerpt], targets[excerpt]\n",
        "\n",
        "def train_epoch_grad(model, optimizer, batchsize=32):\n",
        "    loss_log, acc_log = [], []\n",
        "    grads = [[] for l in model.weights]\n",
        "    model.train()\n",
        "    for x_batch, y_batch in iterate_minibatches(X_train, y_train, batchsize=batchsize, shuffle=True):\n",
        "        # data preparation\n",
        "        data = torch.from_numpy(x_batch.astype(np.float32))\n",
        "        target = torch.from_numpy(y_batch.astype(np.int64))\n",
        "\n",
        "\n",
        "\n",
        "        optimizer.zero_grad()\n",
        "        output = model(data)\n",
        "\n",
        "        pred = torch.max(output, 1)[1].cpu().numpy()\n",
        "        acc = np.mean(pred == y_batch)\n",
        "        acc_log.append(acc)\n",
        "\n",
        "        loss = F.nll_loss(output, target)\n",
        "        loss.backward()\n",
        "        optimizer.step()\n",
        "        loss = loss.item()\n",
        "        loss_log.append(loss)\n",
        "\n",
        "        for g, l in zip(grads, model.weights):\n",
        "            g.append(np.linalg.norm(l.grad.cpu().numpy()))\n",
        "    return loss_log, acc_log, grads\n",
        "\n",
        "\n",
        "def train_grad(model, opt, n_epochs):\n",
        "    train_log, train_acc_log = [], []\n",
        "    val_log, val_acc_log = [], []\n",
        "    grads_log = None\n",
        "\n",
        "    batchsize = 32\n",
        "\n",
        "    for epoch in range(n_epochs):\n",
        "        print(\"Epoch {} of {}\".format(epoch, n_epochs))\n",
        "        train_loss, train_acc, grads = train_epoch_grad(model, opt, batchsize=batchsize)\n",
        "        if grads_log is None:\n",
        "            grads_log = grads\n",
        "        else:\n",
        "            for a, b in zip(grads_log, grads):\n",
        "                a.extend(b)\n",
        "\n",
        "        val_loss, val_acc = test(model)\n",
        "\n",
        "        train_log.extend(train_loss)\n",
        "        train_acc_log.extend(train_acc)\n",
        "\n",
        "        steps = len(X_train) / batchsize\n",
        "        val_log.append((steps * (epoch + 1), np.mean(val_loss)))\n",
        "        val_acc_log.append((steps * (epoch + 1), np.mean(val_acc)))\n",
        "\n",
        "        # display all metrics\n",
        "        clear_output()\n",
        "        plot_history(train_log, val_log)\n",
        "        plot_history(train_acc_log, val_acc_log, title='accuracy')\n",
        "\n",
        "        plt.figure()\n",
        "        all_vals = []\n",
        "        for i, g in enumerate(grads_log):\n",
        "            w = np.ones(100)\n",
        "            w /= w.sum()\n",
        "            vals = np.convolve(w, g, mode='valid')\n",
        "            plt.semilogy(vals, label=str(i+1), color=plt.cm.coolwarm((i / len(grads_log))))\n",
        "            all_vals.extend(vals)\n",
        "        plt.legend(loc='best')\n",
        "        plt.grid()\n",
        "        plt.show()"
      ]
    },
    {
      "cell_type": "markdown",
      "metadata": {
        "id": "J5fobtIJ9xZc"
      },
      "source": [
        "**Задание 4 (1 балл):**\n",
        "* Обучите сети глубины 10 и больше с сигмоидой в качестве активации. Исследуйте, как глубина влияет на качество обучения и поведение градиентов на далеких от выхода слоях."
      ]
    },
    {
      "cell_type": "code",
      "execution_count": 58,
      "metadata": {
        "id": "ASylWcPc9xZd",
        "colab": {
          "base_uri": "https://localhost:8080/",
          "height": 339
        },
        "outputId": "64c4c732-59c1-4450-d4db-2c2d77f1ab26"
      },
      "outputs": [
        {
          "output_type": "stream",
          "name": "stdout",
          "text": [
            "Epoch 0 of 10\n"
          ]
        },
        {
          "output_type": "stream",
          "name": "stderr",
          "text": [
            "  0%|          | 0/1875 [00:00<?, ?it/s]\n"
          ]
        },
        {
          "output_type": "error",
          "ename": "AttributeError",
          "evalue": "'Tensor' object has no attribute 'astype'",
          "traceback": [
            "\u001b[0;31m---------------------------------------------------------------------------\u001b[0m",
            "\u001b[0;31mAttributeError\u001b[0m                            Traceback (most recent call last)",
            "\u001b[0;32m<ipython-input-58-efc0f676265b>\u001b[0m in \u001b[0;36m<cell line: 2>\u001b[0;34m()\u001b[0m\n\u001b[1;32m      1\u001b[0m \u001b[0mmodel\u001b[0m \u001b[0;34m=\u001b[0m \u001b[0mDeepDenseNet\u001b[0m\u001b[0;34m(\u001b[0m\u001b[0mn_layers\u001b[0m\u001b[0;34m=\u001b[0m\u001b[0;36m10\u001b[0m\u001b[0;34m,\u001b[0m \u001b[0mhidden_size\u001b[0m\u001b[0;34m=\u001b[0m\u001b[0;36m128\u001b[0m\u001b[0;34m,\u001b[0m \u001b[0mactivation\u001b[0m\u001b[0;34m=\u001b[0m\u001b[0mnn\u001b[0m\u001b[0;34m.\u001b[0m\u001b[0mSigmoid\u001b[0m\u001b[0;34m(\u001b[0m\u001b[0;34m)\u001b[0m\u001b[0;34m)\u001b[0m\u001b[0;34m\u001b[0m\u001b[0;34m\u001b[0m\u001b[0m\n\u001b[0;32m----> 2\u001b[0;31m \u001b[0mtrain_grad\u001b[0m\u001b[0;34m(\u001b[0m\u001b[0mmodel\u001b[0m\u001b[0;34m,\u001b[0m \u001b[0mtorch\u001b[0m\u001b[0;34m.\u001b[0m\u001b[0moptim\u001b[0m\u001b[0;34m.\u001b[0m\u001b[0mAdam\u001b[0m\u001b[0;34m(\u001b[0m\u001b[0mmodel\u001b[0m\u001b[0;34m.\u001b[0m\u001b[0mparameters\u001b[0m\u001b[0;34m(\u001b[0m\u001b[0;34m)\u001b[0m\u001b[0;34m)\u001b[0m\u001b[0;34m,\u001b[0m \u001b[0;36m10\u001b[0m\u001b[0;34m)\u001b[0m\u001b[0;34m\u001b[0m\u001b[0;34m\u001b[0m\u001b[0m\n\u001b[0m",
            "\u001b[0;32m<ipython-input-57-cbc3ac4ecc2e>\u001b[0m in \u001b[0;36mtrain_grad\u001b[0;34m(model, opt, n_epochs)\u001b[0m\n\u001b[1;32m     51\u001b[0m     \u001b[0;32mfor\u001b[0m \u001b[0mepoch\u001b[0m \u001b[0;32min\u001b[0m \u001b[0mrange\u001b[0m\u001b[0;34m(\u001b[0m\u001b[0mn_epochs\u001b[0m\u001b[0;34m)\u001b[0m\u001b[0;34m:\u001b[0m\u001b[0;34m\u001b[0m\u001b[0;34m\u001b[0m\u001b[0m\n\u001b[1;32m     52\u001b[0m         \u001b[0mprint\u001b[0m\u001b[0;34m(\u001b[0m\u001b[0;34m\"Epoch {} of {}\"\u001b[0m\u001b[0;34m.\u001b[0m\u001b[0mformat\u001b[0m\u001b[0;34m(\u001b[0m\u001b[0mepoch\u001b[0m\u001b[0;34m,\u001b[0m \u001b[0mn_epochs\u001b[0m\u001b[0;34m)\u001b[0m\u001b[0;34m)\u001b[0m\u001b[0;34m\u001b[0m\u001b[0;34m\u001b[0m\u001b[0m\n\u001b[0;32m---> 53\u001b[0;31m         \u001b[0mtrain_loss\u001b[0m\u001b[0;34m,\u001b[0m \u001b[0mtrain_acc\u001b[0m\u001b[0;34m,\u001b[0m \u001b[0mgrads\u001b[0m \u001b[0;34m=\u001b[0m \u001b[0mtrain_epoch_grad\u001b[0m\u001b[0;34m(\u001b[0m\u001b[0mmodel\u001b[0m\u001b[0;34m,\u001b[0m \u001b[0mopt\u001b[0m\u001b[0;34m,\u001b[0m \u001b[0mbatchsize\u001b[0m\u001b[0;34m=\u001b[0m\u001b[0mbatchsize\u001b[0m\u001b[0;34m)\u001b[0m\u001b[0;34m\u001b[0m\u001b[0;34m\u001b[0m\u001b[0m\n\u001b[0m\u001b[1;32m     54\u001b[0m         \u001b[0;32mif\u001b[0m \u001b[0mgrads_log\u001b[0m \u001b[0;32mis\u001b[0m \u001b[0;32mNone\u001b[0m\u001b[0;34m:\u001b[0m\u001b[0;34m\u001b[0m\u001b[0;34m\u001b[0m\u001b[0m\n\u001b[1;32m     55\u001b[0m             \u001b[0mgrads_log\u001b[0m \u001b[0;34m=\u001b[0m \u001b[0mgrads\u001b[0m\u001b[0;34m\u001b[0m\u001b[0;34m\u001b[0m\u001b[0m\n",
            "\u001b[0;32m<ipython-input-57-cbc3ac4ecc2e>\u001b[0m in \u001b[0;36mtrain_epoch_grad\u001b[0;34m(model, optimizer, batchsize)\u001b[0m\n\u001b[1;32m     19\u001b[0m     \u001b[0;32mfor\u001b[0m \u001b[0mx_batch\u001b[0m\u001b[0;34m,\u001b[0m \u001b[0my_batch\u001b[0m \u001b[0;32min\u001b[0m \u001b[0miterate_minibatches\u001b[0m\u001b[0;34m(\u001b[0m\u001b[0mX_train\u001b[0m\u001b[0;34m,\u001b[0m \u001b[0my_train\u001b[0m\u001b[0;34m,\u001b[0m \u001b[0mbatchsize\u001b[0m\u001b[0;34m=\u001b[0m\u001b[0mbatchsize\u001b[0m\u001b[0;34m,\u001b[0m \u001b[0mshuffle\u001b[0m\u001b[0;34m=\u001b[0m\u001b[0;32mTrue\u001b[0m\u001b[0;34m)\u001b[0m\u001b[0;34m:\u001b[0m\u001b[0;34m\u001b[0m\u001b[0;34m\u001b[0m\u001b[0m\n\u001b[1;32m     20\u001b[0m         \u001b[0;31m# data preparation\u001b[0m\u001b[0;34m\u001b[0m\u001b[0;34m\u001b[0m\u001b[0m\n\u001b[0;32m---> 21\u001b[0;31m         \u001b[0mdata\u001b[0m \u001b[0;34m=\u001b[0m \u001b[0mtorch\u001b[0m\u001b[0;34m.\u001b[0m\u001b[0mfrom_numpy\u001b[0m\u001b[0;34m(\u001b[0m\u001b[0mx_batch\u001b[0m\u001b[0;34m.\u001b[0m\u001b[0mastype\u001b[0m\u001b[0;34m(\u001b[0m\u001b[0mnp\u001b[0m\u001b[0;34m.\u001b[0m\u001b[0mfloat32\u001b[0m\u001b[0;34m)\u001b[0m\u001b[0;34m)\u001b[0m\u001b[0;34m\u001b[0m\u001b[0;34m\u001b[0m\u001b[0m\n\u001b[0m\u001b[1;32m     22\u001b[0m         \u001b[0mtarget\u001b[0m \u001b[0;34m=\u001b[0m \u001b[0mtorch\u001b[0m\u001b[0;34m.\u001b[0m\u001b[0mfrom_numpy\u001b[0m\u001b[0;34m(\u001b[0m\u001b[0my_batch\u001b[0m\u001b[0;34m.\u001b[0m\u001b[0mastype\u001b[0m\u001b[0;34m(\u001b[0m\u001b[0mnp\u001b[0m\u001b[0;34m.\u001b[0m\u001b[0mint64\u001b[0m\u001b[0;34m)\u001b[0m\u001b[0;34m)\u001b[0m\u001b[0;34m\u001b[0m\u001b[0;34m\u001b[0m\u001b[0m\n\u001b[1;32m     23\u001b[0m \u001b[0;34m\u001b[0m\u001b[0m\n",
            "\u001b[0;31mAttributeError\u001b[0m: 'Tensor' object has no attribute 'astype'"
          ]
        }
      ],
      "source": [
        "model = DeepDenseNet(n_layers=10, hidden_size=128, activation=nn.Sigmoid())\n",
        "train_grad(model, torch.optim.Adam(model.parameters()), 10)"
      ]
    },
    {
      "cell_type": "code",
      "execution_count": null,
      "metadata": {
        "id": "hi8CF2WoLjyL"
      },
      "outputs": [],
      "source": [
        "model = DeepDenseNet(#code here\n",
        "train_grad(model, torch.optim.Adam(model.parameters()), 10)"
      ]
    },
    {
      "cell_type": "code",
      "execution_count": null,
      "metadata": {
        "id": "YVMkOsboLjyL"
      },
      "outputs": [],
      "source": [
        "model = DeepDenseNet(#code here\n",
        "train_grad(model, torch.optim.Adam(model.parameters()), 10)"
      ]
    },
    {
      "cell_type": "markdown",
      "metadata": {
        "id": "hPrQ1nSMLjyL"
      },
      "source": [
        "* Теперь замените активацию на ReLU и посмотрите, что получится."
      ]
    },
    {
      "cell_type": "code",
      "execution_count": null,
      "metadata": {
        "id": "FPOwEGLkLjyM"
      },
      "outputs": [],
      "source": [
        "model = DeepDenseNet(#code here\n",
        "train_grad(model, torch.optim.Adam(model.parameters()), 10)"
      ]
    },
    {
      "cell_type": "markdown",
      "metadata": {
        "id": "I38UAdgR9xZt"
      },
      "source": [
        "Теперь попробуем добавить в сеть skip-connections (по примеру ResNet) вместо замены сигмоиды на relu и посмотрим, что получится. Запихнуть все слои в nn.Sequential и просто их применить теперь не получится - вместо этого мы их применим вручную. Но положить их в отдельный модуль nn.Sequential все равно нужно, иначе torch не сможет их найти и оптимизировать.\n",
        "\n",
        "**Задание 5 (4 балла):** допишите недостающую часть кода ниже."
      ]
    },
    {
      "cell_type": "code",
      "execution_count": null,
      "metadata": {
        "id": "3UZ3MTB-9xZv"
      },
      "outputs": [],
      "source": [
        "class DeepDenseResNet(nn.Module):\n",
        "    def __init__(self, n_layers, hidden_size, activation):\n",
        "        super().__init__()\n",
        "        self.activation = activation\n",
        "\n",
        "        l0 = nn.Linear(X_train.shape[1], hidden_size)\n",
        "        self.weights = [l0.weight]\n",
        "        self.layers = [l0]\n",
        "\n",
        "        for i in range(1, n_layers - 1):\n",
        "            l = nn.Linear(hidden_size, hidden_size)\n",
        "            self.layers.append(l)\n",
        "            self.weights.append(l.weight)\n",
        "\n",
        "        l = nn.Linear(hidden_size, 10)\n",
        "        self.layers.append(l)\n",
        "        self.weights.append(l.weight)\n",
        "\n",
        "        self.seq = nn.Sequential(*self.layers)\n",
        "\n",
        "        for l in self.weights:\n",
        "            l.retain_grad()\n",
        "\n",
        "    def forward(self, x):\n",
        "        #реализуйте resudial block\n",
        "\n",
        "        return F.log_softmax(x, dim=-1)"
      ]
    },
    {
      "cell_type": "markdown",
      "metadata": {
        "id": "y08rBtNH9xZz"
      },
      "source": [
        "Убедимся, что такая сеть отлично учится даже на большом числе слоев."
      ]
    },
    {
      "cell_type": "code",
      "execution_count": null,
      "metadata": {
        "id": "878WBPW19xZ2"
      },
      "outputs": [],
      "source": [
        "model = DeepDenseResNet(n_layers=20, hidden_size=10, activation=nn.Sigmoid())\n",
        "opt = torch.optim.RMSprop(model.parameters(), lr=0.001)\n",
        "\n",
        "train_grad(model, opt, 10)"
      ]
    }
  ],
  "metadata": {
    "accelerator": "GPU",
    "colab": {
      "provenance": [],
      "include_colab_link": true
    },
    "hse_dl_year": 2019,
    "kernelspec": {
      "display_name": "Python 3",
      "language": "python",
      "name": "python3"
    },
    "language_info": {
      "codemirror_mode": {
        "name": "ipython",
        "version": 3
      },
      "file_extension": ".py",
      "mimetype": "text/x-python",
      "name": "python",
      "nbconvert_exporter": "python",
      "pygments_lexer": "ipython3",
      "version": "3.8.3"
    }
  },
  "nbformat": 4,
  "nbformat_minor": 0
}